{
 "cells": [
  {
   "cell_type": "code",
   "execution_count": null,
   "metadata": {},
   "outputs": [],
   "source": [
    "a=int(input(print('Enter a value : ')))\n",
    "if a>0:\n",
    "      print(str(a) + ' is a Positive number')\n",
    "elif a<0:\n",
    "      print(str(a) + ' is a Negative number')\n",
    "else:\n",
    "      print(str(a) + ' is neither Negative nor Positive')"
   ]
  },
  {
   "cell_type": "code",
   "execution_count": null,
   "metadata": {},
   "outputs": [],
   "source": [
    "a=int(input(print('Enter a value : ')))\n",
    "if a>0:\n",
    "    print(str(a) + ' is a Positive number')\n",
    "elif a<0:\n",
    "    print(str(a) + ' is a Negative number')\n",
    "else:\n",
    "    print(str(a) + ' is neither Negative nor Positive')"
   ]
  },
  {
   "cell_type": "code",
   "execution_count": null,
   "metadata": {},
   "outputs": [],
   "source": []
  }
 ],
 "metadata": {
  "kernelspec": {
   "display_name": "Python 3",
   "language": "python",
   "name": "python3"
  },
  "language_info": {
   "codemirror_mode": {
    "name": "ipython",
    "version": 3
   },
   "file_extension": ".py",
   "mimetype": "text/x-python",
   "name": "python",
   "nbconvert_exporter": "python",
   "pygments_lexer": "ipython3",
   "version": "3.6.5"
  }
 },
 "nbformat": 4,
 "nbformat_minor": 2
}
